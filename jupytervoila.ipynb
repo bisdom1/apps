{
 "cells": [
  {
   "cell_type": "code",
   "execution_count": 6,
   "metadata": {},
   "outputs": [],
   "source": [
    "import pandas as pd\n",
    "import plotly.express as px\n",
    "import ipywidgets as widgets\n",
    "from IPython.display import HTML"
   ]
  },
  {
   "cell_type": "code",
   "execution_count": null,
   "metadata": {},
   "outputs": [],
   "source": [
    "DATA_URL = 'https://raw.githubusercontent.com/bisdom1/apps/master/assets/owid-covid-data.csv'"
   ]
  },
  {
   "cell_type": "code",
   "execution_count": null,
   "metadata": {},
   "outputs": [],
   "source": [
    "HTML(\"\"\"\\\n",
    "<style>\n",
    ".app-subtitle {\n",
    "    font-size: 1.5em;\n",
    "}\n",
    ".app-subtitle a {\n",
    "    color: #000;\n",
    "}\n",
    "\n",
    ".app-subtitle a:hover {\n",
    "    text-decoration: underline;\n",
    "}\n",
    "</style>\n",
    "\"\"\")"
   ]
  },
  {
   "cell_type": "code",
   "execution_count": null,
   "metadata": {},
   "outputs": [],
   "source": [
    "class App:\n",
    "    \n",
    "    def __init__(self, df):\n",
    "        self._df = df\n",
    "        available_indicators = self._df['location'].unique()\n",
    "        self._country_dropdown = self._create_indicator_dropdown(available_indicators, 0)       \n",
    "        self._plot_container = widgets.Output()\n",
    "        _app_container = widgets.VBox([\n",
    "            widgets.HBox([self._country_dropdown]),\n",
    "            self._plot_container\n",
    "        ], layout=widgets.Layout(align_items='center', flex='3 0 auto'))\n",
    "        self.container = widgets.VBox([\n",
    "            widgets.HTML(\n",
    "                (\n",
    "                    '<h1>\\U0001F489 COVID-19 stats</h1>'\n",
    "                    '<h2 class=\"app-subtitle\">Code adapted from <a href=\"https://github.com/pbugnion/voila-gallery/blob/master/country-indicators/index.ipynb\">this example</a>. Data from <a href=\"https://ourworldindata.org/coronavirus-source-data\">ourworldindata.org</a>.</h2>'\n",
    "                ), \n",
    "                layout=widgets.Layout(margin='0 0 5em 0')\n",
    "            ),\n",
    "            widgets.HBox([\n",
    "                _app_container\n",
    "            ])\n",
    "        ], layout=widgets.Layout(flex='1 1 auto', margin='0 auto 0 auto', max_width='1024px'))\n",
    "        self._update_app()\n",
    "        \n",
    "    @classmethod\n",
    "    def from_url(cls, url):\n",
    "        df = pd.read_csv(url, na_values='nan')\n",
    "        df.date=pd.DatetimeIndex(df.date)\n",
    "        df.index=df.date\n",
    "        df['week'] = df.to_period('W').index.strftime(\"%Y-%m-%d\")\n",
    "        df = df[df['continent'].notna()]\n",
    "        df = df[df['total_cases'].notna()]\n",
    "        return cls(df)\n",
    "        \n",
    "    def _create_indicator_dropdown(self, indicators, initial_index):\n",
    "        dropdown = widgets.Dropdown(options=indicators, value=indicators[initial_index])\n",
    "        dropdown.observe(self._on_change, names=['value'])\n",
    "        return dropdown\n",
    "    \n",
    "    def _create_plot(self, country_indicator):\n",
    "        fig = px.bar(self._df[self._df.location==country_indicator], x=\"date\", y=\"new_cases\", title=\"New cases per day in \" + country_indicator,template='plotly_white')\n",
    "        return fig\n",
    "\n",
    "    def _create_map(self):\n",
    "        fig = px.scatter_geo(self._df, locations=\"iso_code\", color=\"continent\",\n",
    "                     hover_name=\"location\", size=\"total_cases\",\n",
    "                     animation_frame=\"week\",\n",
    "                     projection=\"equirectangular\",\n",
    "                     title='Total cases per country, coloured by continent',\n",
    "                     size_max=50,\n",
    "                     opacity=0.7,\n",
    "                     template='plotly_white')\n",
    "        fig.update_layout(height=600,showlegend=False)\n",
    "        return fig\n",
    "        \n",
    "    def _on_change(self, _):\n",
    "        self._update_app()\n",
    "        \n",
    "    def _update_app(self):\n",
    "        country_indicator = self._country_dropdown.value\n",
    "        self._plot_container.clear_output(wait=True)\n",
    "        with self._plot_container:\n",
    "            fig = self._create_map()\n",
    "            fig.show()\n",
    "            fig = self._create_plot(country_indicator)\n",
    "            fig.show()"
   ]
  },
  {
   "cell_type": "code",
   "execution_count": null,
   "metadata": {},
   "outputs": [],
   "source": [
    "app = App.from_url(DATA_URL)\n",
    "\n",
    "app.container"
   ]
  }
 ],
 "metadata": {
  "kernelspec": {
   "display_name": "Python 3",
   "language": "python",
   "name": "python3"
  },
  "language_info": {
   "codemirror_mode": {
    "name": "ipython",
    "version": 3
   },
   "file_extension": ".py",
   "mimetype": "text/x-python",
   "name": "python",
   "nbconvert_exporter": "python",
   "pygments_lexer": "ipython3",
   "version": "3.7.5"
  }
 },
 "nbformat": 4,
 "nbformat_minor": 2
}